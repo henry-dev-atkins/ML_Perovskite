{
 "cells": [
  {
   "cell_type": "code",
   "execution_count": 2,
   "id": "universal-mattress",
   "metadata": {},
   "outputs": [],
   "source": [
    "#conda install -c conda-forge tensorflow"
   ]
  },
  {
   "cell_type": "code",
   "execution_count": 3,
   "id": "placed-actor",
   "metadata": {},
   "outputs": [],
   "source": [
    "import numpy as np\n",
    "import pandas as pd\n",
    "from matplotlib import pyplot as plt\n",
    "import tensorflow as tf\n",
    "from sklearn.model_selection import train_test_split\n",
    "from sklearn.preprocessing import StandardScaler\n",
    "from sklearn import metrics\n",
    "import sklearn as sk"
   ]
  },
  {
   "cell_type": "code",
   "execution_count": 4,
   "id": "secret-insider",
   "metadata": {},
   "outputs": [],
   "source": [
    "#https://figshare.com/articles/dataset/MAST-ML_Education_Datasets/7017254?file=12978425 - Dataset\n",
    "\n",
    "dataset = pd.read_csv(\"Data/Perovskite_Stability_with_features.csv\")\n",
    "del dataset['Material Composition']\n",
    "del dataset['A site #1']\n",
    "del dataset['A site #2']\n",
    "del dataset['A site #3']\n",
    "del dataset['B site #1']\n",
    "del dataset['B site #2']\n",
    "del dataset['B site #3'] # Removing most catagorical data     \n",
    "del dataset['X site']\n",
    "#print(dataset['formation_energy (eV/atom)'])"
   ]
  },
  {
   "cell_type": "code",
   "execution_count": 5,
   "id": "elegant-meeting",
   "metadata": {},
   "outputs": [
    {
     "name": "stdout",
     "output_type": "stream",
     "text": [
      "73\n"
     ]
    }
   ],
   "source": [
    "column_reorder = ['Number of elements', 'energy_above_hull (meV/atom)', 'num_of_atoms_host_Asite0',\n",
    "       'host_Asite0_Heat of Vaporization', 'host_Bsite0_at. wt.',\n",
    "       'host_Bsite0_Ionization Energy (kJ/mol)', 'shannon_radii_AB_avg',\n",
    "       'Density_AB_avg', 'BCCefflatcnt_AB_avg', 'BCCvolume_padiff_AB_avg',\n",
    "       'GSenergy_pa_AB_avg', 'ICSDVolume_AB_avg', 'covalent radius_AB_avg',\n",
    "       'Ionization Energy (kJ/mol)_AB_avg',\n",
    "       'Electron Affinity (kJ/mol)_AB_avg', 'Atomic Volume (cm³/mol)_AB_avg',\n",
    "       'MendeleevNumber_AB_avg', 'First Ionization Potential (V)_AB_avg',\n",
    "       'thermal conductivity_AB_avg', 'at. wt._AB_diff',\n",
    "       'specific heat capacity_AB_diff', 'electrical conductivity_AB_diff',\n",
    "       'BCCefflatcnt_AB_ratio', 'Ionization Energy (kJ/mol)_AB_ratio',\n",
    "       'Heat of Vaporization_AB_ratio', 'Asite_BCCvolume_pa_weighted_avg',\n",
    "       'Asite_BCCvolume_padiff_weighted_avg',\n",
    "       'Asite_At. Radius   (angstroms)_weighted_avg',\n",
    "       'Asite_n_ws^third_weighted_avg', 'Bsite_ BP (K)_weighted_avg',\n",
    "       'Bsite_At. Radius   (angstroms)_weighted_avg',\n",
    "       'Bsite_Second Ionization Potential  (V)_weighted_avg',\n",
    "       'Bsite_electrical conductivity_weighted_avg',\n",
    "       'Asite_Ionic Radius (angstroms)_max', 'Asite_BCCenergy_pa_max',\n",
    "       'Asite_Atomic Radius (Å)_max', 'Asite_At. Radius   (angstroms)_max',\n",
    "       'Asite_Atomic Volume (cm³/mol)_max', 'Bsite_ BP (K)_max',\n",
    "       'Bsite_At. Radius   (angstroms)_max',\n",
    "       'Bsite_First Ionization Potential (V)_max',\n",
    "       'Bsite_Third Ionization Potential  (V)_max', 'Asite_shannon_radii_min',\n",
    "       'Asite_BCCenergy_pa_min', 'Asite_BCCenergydiff_min',\n",
    "       'Asite_GSmagmom_min', 'Asite_At. Radius   (angstroms)_min',\n",
    "       'Bsite_MendeleevNumber_min', 'Bsite_n_ws^third_min',\n",
    "       'Asite_shannon_radii_range', 'Asite_BCCefflatcnt_range',\n",
    "       'Asite_IsBoron_weighted_avg', 'Asite_IsHalogen_weighted_avg',\n",
    "       'Asite_IsPnictide_weighted_avg', 'Asite_IsRareEarth_weighted_avg',\n",
    "       'Asite_NfUnfilled_weighted_avg', 'Asite_NfValence_weighted_avg',\n",
    "       'Bsite_At. #_weighted_avg', 'Bsite_Period_weighted_avg',\n",
    "       'Bsite_IsMetal_weighted_avg', 'Bsite_NdUnfilled_weighted_avg',\n",
    "       'Bsite_NpUnfilled_weighted_avg', 'host_Asite0_IsBCC',\n",
    "       'host_Asite0_IsCubic', 'host_Asite0_IsAlkali', 'host_Asite0_OrbitalD',\n",
    "       'host_Asite0_NsValence', 'host_Bsite0_At. #', 'host_Bsite0_IsHexagonal',\n",
    "       'host_Bsite0_IsNoblegas', 'Asite_IsAlkali_max', 'Bsite_IsMetal_max', 'formation_energy (eV/atom)']\n",
    "dataset=dataset.reindex(columns=column_reorder)\n",
    "print(len(dataset.columns))              #Reordering Formation Energy as last column for y."
   ]
  },
  {
   "cell_type": "code",
   "execution_count": 9,
   "id": "electoral-startup",
   "metadata": {},
   "outputs": [
    {
     "data": {
      "text/plain": [
       "1.997"
      ]
     },
     "execution_count": 9,
     "metadata": {},
     "output_type": "execute_result"
    }
   ],
   "source": [
    "def ann(data, train_split, units_1, units_2, batch_size, epochs):\n",
    "    X = data.iloc[:, :-1].values\n",
    "    y = data.iloc[:, -1].values\n",
    "    \n",
    "    X_train, X_test, y_train, y_test = train_test_split(X, y, test_size = train_split, random_state = 0)\n",
    "    \n",
    "    sc = StandardScaler()\n",
    "    X_train = sc.fit_transform(X_train)\n",
    "    X_test = sc.transform(X_test)\n",
    "    \n",
    "    # https://stackoverflow.com/questions/49008074/how-to-create-a-neural-network-for-regression was useful here\n",
    "    ann = tf.keras.models.Sequential()\n",
    "    \n",
    "    ann.add(tf.keras.layers.Dense(units=units_1, activation='relu'))\n",
    "    \n",
    "    ann.add(tf.keras.layers.Dense(units=units_2, activation='sigmoid'))\n",
    "    \n",
    "    ann.compile(optimizer = 'adam', loss = 'mean_squared_error')\n",
    "    \n",
    "    ann.fit(X_train, y_train, batch_size = batch_size, epochs = epochs, verbose = 0)\n",
    "    \n",
    "    y_pred = ann.predict(X_test)\n",
    "    \n",
    "    return(round(np.sqrt(sk.metrics.mean_squared_error(y_test, y_pred)), 3)) #rms error\n",
    "    \n",
    "ann(dataset, 0.2, 6, 1, 32, 10)"
   ]
  },
  {
   "cell_type": "code",
   "execution_count": 10,
   "id": "italian-tiger",
   "metadata": {},
   "outputs": [
    {
     "name": "stdout",
     "output_type": "stream",
     "text": [
      "1.988\n"
     ]
    }
   ],
   "source": [
    "print(ann(dataset, 0.2, 6, 1, 10, 20))"
   ]
  },
  {
   "cell_type": "code",
   "execution_count": null,
   "id": "successful-solid",
   "metadata": {},
   "outputs": [],
   "source": []
  }
 ],
 "metadata": {
  "kernelspec": {
   "display_name": "Python 3",
   "language": "python",
   "name": "python3"
  },
  "language_info": {
   "codemirror_mode": {
    "name": "ipython",
    "version": 3
   },
   "file_extension": ".py",
   "mimetype": "text/x-python",
   "name": "python",
   "nbconvert_exporter": "python",
   "pygments_lexer": "ipython3",
   "version": "3.8.5"
  }
 },
 "nbformat": 4,
 "nbformat_minor": 5
}
