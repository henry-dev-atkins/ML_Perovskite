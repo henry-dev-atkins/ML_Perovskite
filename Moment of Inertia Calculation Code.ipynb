{
 "cells": [
  {
   "cell_type": "code",
   "execution_count": 63,
   "metadata": {},
   "outputs": [],
   "source": [
    "import pandas as pd\n",
    "import numpy as np\n",
    "import scipy.linalg as la"
   ]
  },
  {
   "cell_type": "code",
   "execution_count": 64,
   "metadata": {},
   "outputs": [
    {
     "data": {
      "text/plain": [
       "array([    0.       +0.j, 73491.3415218+0.j, 73491.3415218+0.j])"
      ]
     },
     "execution_count": 64,
     "metadata": {},
     "output_type": "execute_result"
    }
   ],
   "source": [
    "file_name = \"CH3CL.csv\"\n",
    "def moment_inertia(filename):\n",
    "    cation = pd.read_csv(file_name)\n",
    "    cation = np.array(cation)\n",
    "    Ixx, Iyy, Izz, Ixy, Iyz, Ixz = 0,0,0,0,0,0 \n",
    "    for i in cation:\n",
    "        Ixx = Ixx + cation[0]*(cation[2]**2 + cation[3]**2)\n",
    "        Iyy = Iyy + cation[0]*(cation[1]**2 + cation[3]**2)\n",
    "        Izz = Izz + cation[0]*(cation[1]**2 + cation[2]**2)\n",
    "        Ixy = Ixy - cation[0]*cation[1]*cation[2]\n",
    "        Iyz = Iyz - cation[0]*cation[2]*cation[3]\n",
    "        Ixz = Ixz - cation[0]*cation[1]*cation[3]\n",
    "    I = ((Ixx[0], Ixy[0], Ixz[0]), (Ixy[0], Iyy[0], Iyz[0]), (Ixz[0], Iyz[0], Izz[0]))\n",
    "    principle, vecs = la.eig(I)\n",
    "    return(principle)\n",
    "moment_inertia(\"CH3CL.csv\")"
   ]
  }
 ],
 "metadata": {
  "kernelspec": {
   "display_name": "Python 3",
   "language": "python",
   "name": "python3"
  },
  "language_info": {
   "codemirror_mode": {
    "name": "ipython",
    "version": 3
   },
   "file_extension": ".py",
   "mimetype": "text/x-python",
   "name": "python",
   "nbconvert_exporter": "python",
   "pygments_lexer": "ipython3",
   "version": "3.8.3"
  }
 },
 "nbformat": 4,
 "nbformat_minor": 4
}
