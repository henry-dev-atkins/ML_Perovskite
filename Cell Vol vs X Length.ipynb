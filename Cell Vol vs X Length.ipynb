{
 "cells": [
  {
   "cell_type": "code",
   "execution_count": 54,
   "metadata": {},
   "outputs": [],
   "source": [
    "import numpy as np\n",
    "import pandas as pd\n",
    "from matplotlib import pyplot as plt\n",
    "import seaborn as s\n",
    "from numpy import cos, sqrt, radians\n",
    "\n",
    "import sklearn as sk\n",
    "from sklearn.model_selection import train_test_split\n",
    "from sklearn.linear_model import LinearRegression\n",
    "\n",
    "from sklearn import metrics\n",
    "\n",
    "from sklearn.preprocessing import StandardScaler\n",
    "from sklearn.svm import SVR"
   ]
  },
  {
   "cell_type": "code",
   "execution_count": 6,
   "metadata": {},
   "outputs": [
    {
     "data": {
      "text/plain": [
       "Index(['Compounds', 'A sites', 'A site charge',\n",
       "       'Principle components of inertia', 'B sites', 'Elpasolite?',\n",
       "       'B site charge', 'B1 site', 'B1 charge', 'B1 ionic radii', 'B2 site',\n",
       "       'B2 charge', 'B2 ionic radii', 'X sites', 'X site charge',\n",
       "       'X site length', 'T c/K', 'No. of phase transitions', 'Space groupa',\n",
       "       'Space group ref', 'a', 'da', 'b_x', 'db', 'c', 'dc', 'alpha', 'dalpha',\n",
       "       'beta', 'dbeta', 'gamma', 'dgamma', 'Ref.', 'DOI', 'alpha1', 'alpha2',\n",
       "       'alpha3', 'alphar', 'alphatheta', 'Lmin', 'Lmed', 'Lmax', 'b_y'],\n",
       "      dtype='object')"
      ]
     },
     "execution_count": 6,
     "metadata": {},
     "output_type": "execute_result"
    }
   ],
   "source": [
    "dataset = pd.read_csv(\"merged_data.csv\")\n",
    "dataset.columns"
   ]
  },
  {
   "cell_type": "code",
   "execution_count": 7,
   "metadata": {},
   "outputs": [
    {
     "name": "stderr",
     "output_type": "stream",
     "text": [
      "C:\\Users\\Henry\\anaconda3\\lib\\site-packages\\pandas\\core\\series.py:679: RuntimeWarning: invalid value encountered in sqrt\n",
      "  result = getattr(ufunc, method)(*inputs, **kwargs)\n"
     ]
    }
   ],
   "source": [
    "def get_HT_parameter(col):\n",
    "    \"\"\"Split col at commas and return the last value as a float.\"\"\"\n",
    "    return col.str.split(\",\").str.get(-1).astype(float)\n",
    "\n",
    "HT_cells = dataset[[\"a\", \"b_x\", \"c\", \"alpha\", \"beta\", \"gamma\"]].apply(get_HT_parameter)\n",
    "\n",
    "def volume(a, b, c, al_d, be_d, ga_d):\n",
    "    \"\"\"Calculate the unit cell volume from the parameters a, b, c, alpha, beta, gamma.\n",
    "    \n",
    "    Angles in degrees.\"\"\"\n",
    "    # http://duffy.princeton.edu/sites/default/files/pdfs/links/xtalgeometry.pdf\n",
    "    al, be, ga = map(radians, (al_d, be_d, ga_d))\n",
    "    return a*b*c * sqrt(1 - cos(al)**2 - cos(be)**2 - cos(ga)**2\n",
    "                       + 2*cos(al)*cos(be)*cos(ga))\n",
    "\n",
    "vol_array = np.array(dataset['Compounds'] * 0)\n",
    "\n",
    "HT_cells[\"V\"] = volume(HT_cells[\"a\"], HT_cells[\"b_x\"], HT_cells[\"c\"],\n",
    "                       HT_cells[\"alpha\"], HT_cells[\"beta\"], HT_cells[\"gamma\"])\n",
    "\n",
    "HT_cells.dropna(inplace=True)\n",
    "vol_array = np.array(HT_cells[\"V\"])\n",
    "data = np.empty(shape = (96, 2))\n",
    " \n",
    "for i in range (0, 96):\n",
    "    data[i, 1] = vol_array[i]\n",
    "    data[i, 0] = dataset['X site length'][i]\n",
    "\n",
    "#print(array)"
   ]
  },
  {
   "cell_type": "code",
   "execution_count": 8,
   "metadata": {},
   "outputs": [
    {
     "data": {
      "text/plain": [
       "<matplotlib.collections.PathCollection at 0x1e992b8f8b0>"
      ]
     },
     "execution_count": 8,
     "metadata": {},
     "output_type": "execute_result"
    },
    {
     "data": {
      "image/png": "[encoded data removed]",
      "text/plain": [
       "<Figure size 432x288 with 1 Axes>"
      ]
     },
     "metadata": {
      "needs_background": "light"
     },
     "output_type": "display_data"
    }
   ],
   "source": [
    "data.sort()\n",
    "plt.scatter(data[:,0], data[:,1], s = 2)"
   ]
  },
  {
   "cell_type": "markdown",
   "metadata": {},
   "source": [
    "# Linear Regression"
   ]
  },
  {
   "cell_type": "code",
   "execution_count": 9,
   "metadata": {},
   "outputs": [],
   "source": [
    "X, y = data[:, :-1], data[:, -1]\n",
    "\n",
    "X_train, X_test, y_train, y_test = train_test_split(X, y, test_size = 1/3, random_state = 0)"
   ]
  },
  {
   "cell_type": "code",
   "execution_count": 10,
   "metadata": {},
   "outputs": [
    {
     "data": {
      "text/plain": [
       "LinearRegression()"
      ]
     },
     "execution_count": 10,
     "metadata": {},
     "output_type": "execute_result"
    }
   ],
   "source": [
    "regressor = LinearRegression()\n",
    "regressor.fit(X_train, y_train)"
   ]
  },
  {
   "cell_type": "code",
   "execution_count": 11,
   "metadata": {},
   "outputs": [
    {
     "data": {
      "image/png": "[encoded data removed]",
      "text/plain": [
       "<Figure size 432x288 with 1 Axes>"
      ]
     },
     "metadata": {
      "needs_background": "light"
     },
     "output_type": "display_data"
    }
   ],
   "source": [
    "plt.scatter(X_test, y_test, color = 'red', s = 2)\n",
    "plt.scatter(X_train, y_train, color = 'green', s = 2)\n",
    "plt.plot(X_train, regressor.predict(X_train), color = 'blue')\n",
    "plt.title('Cell Volume Against X-Length')\n",
    "plt.xlabel('X-Length (Angstroms)')\n",
    "plt.ylabel('Cell Volume (Angstroms**3)')\n",
    "plt.show()"
   ]
  },
  {
   "cell_type": "code",
   "execution_count": 12,
   "metadata": {},
   "outputs": [
    {
     "name": "stdout",
     "output_type": "stream",
     "text": [
      "Mean Absolute Error: 533.7496992701165\n",
      "RMS Error: 646.9729516531437\n"
     ]
    }
   ],
   "source": [
    "y_pred = regressor.predict(X_test)\n",
    "print('Mean Absolute Error:', metrics.mean_absolute_error(y_test, y_pred))\n",
    "print('RMS Error:', np.sqrt(metrics.mean_squared_error(y_test, y_pred)))"
   ]
  },
  {
   "cell_type": "markdown",
   "metadata": {},
   "source": [
    "# SVM Regression"
   ]
  },
  {
   "cell_type": "code",
   "execution_count": 13,
   "metadata": {},
   "outputs": [],
   "source": [
    "y = y.reshape(len(y),1)\n",
    "\n",
    "#Feature Scaling\n",
    "sc_X = StandardScaler()\n",
    "sc_y = StandardScaler()\n",
    "X = sc_X.fit_transform(X)\n",
    "y = sc_y.fit_transform(y)"
   ]
  },
  {
   "cell_type": "code",
   "execution_count": 48,
   "metadata": {},
   "outputs": [
    {
     "name": "stderr",
     "output_type": "stream",
     "text": [
      "C:\\Users\\Henry\\anaconda3\\lib\\site-packages\\sklearn\\utils\\validation.py:73: DataConversionWarning: A column-vector y was passed when a 1d array was expected. Please change the shape of y to (n_samples, ), for example using ravel().\n",
      "  return f(**kwargs)\n"
     ]
    },
    {
     "data": {
      "text/plain": [
       "SVR(kernel='poly')"
      ]
     },
     "execution_count": 48,
     "metadata": {},
     "output_type": "execute_result"
    }
   ],
   "source": [
    "regressor = SVR(kernel = 'poly', degree = 3)\n",
    "regressor.fit(X, y)"
   ]
  },
  {
   "cell_type": "code",
   "execution_count": 49,
   "metadata": {},
   "outputs": [
    {
     "data": {
      "image/png": "[encoded data removed]",
      "text/plain": [
       "<Figure size 432x288 with 1 Axes>"
      ]
     },
     "metadata": {
      "needs_background": "light"
     },
     "output_type": "display_data"
    }
   ],
   "source": [
    "y_pred = sc_y.inverse_transform(regressor.predict(X))\n",
    "\n",
    "plt.scatter(sc_X.inverse_transform(X), sc_y.inverse_transform(y), color = 'red', s = 2)\n",
    "plt.plot(sc_X.inverse_transform(X), sc_y.inverse_transform(regressor.predict(X)), color = 'blue')\n",
    "plt.plot(sc_X.inverse_transform(X),sc_y.inverse_transform(regressor.predict(X))+np.sqrt(metrics.mean_squared_error(sc_y.inverse_transform(y), y_pred)), color = 'grey')\n",
    "plt.plot(sc_X.inverse_transform(X),sc_y.inverse_transform(regressor.predict(X))-np.sqrt(metrics.mean_squared_error(sc_y.inverse_transform(y), y_pred)), color = 'grey')\n",
    "plt.title('Cell Volume Against X-Length (Grey Error Range)')\n",
    "plt.xlabel('X-Length (Angstroms)')\n",
    "plt.ylabel('Cell Volume (Angstroms**3)')\n",
    "plt.show()"
   ]
  },
  {
   "cell_type": "code",
   "execution_count": 50,
   "metadata": {},
   "outputs": [
    {
     "name": "stdout",
     "output_type": "stream",
     "text": [
      "Mean Absolute Error: 511.8643671096666\n",
      "RMS Error: 798.2863326283265\n"
     ]
    }
   ],
   "source": [
    "y_pred = sc_y.inverse_transform(regressor.predict(X))\n",
    "\n",
    "print('Mean Absolute Error:', metrics.mean_absolute_error(sc_y.inverse_transform(y), y_pred))\n",
    "print('RMS Error:', np.sqrt(metrics.mean_squared_error(sc_y.inverse_transform(y), y_pred)))"
   ]
  },
  {
   "cell_type": "code",
   "execution_count": 56,
   "metadata": {},
   "outputs": [
    {
     "data": {
      "text/plain": [
       "GridSearchCV(estimator=SVR(kernel='poly'),\n",
       "             param_grid={'C': [1, 10], 'kernel': ('linear', 'rbf')})"
      ]
     },
     "execution_count": 56,
     "metadata": {},
     "output_type": "execute_result"
    }
   ],
   "source": [
    "parameters = {'kernel':('linear', 'rbf'), 'C':[1, 10]}\n",
    "\n",
    "sk.model_selection.GridSearchCV(regressor, parameters)"
   ]
  },
  {
   "cell_type": "code",
   "execution_count": null,
   "metadata": {},
   "outputs": [],
   "source": []
  }
 ],
 "metadata": {
  "kernelspec": {
   "display_name": "Python 3",
   "language": "python",
   "name": "python3"
  },
  "language_info": {
   "codemirror_mode": {
    "name": "ipython",
    "version": 3
   },
   "file_extension": ".py",
   "mimetype": "text/x-python",
   "name": "python",
   "nbconvert_exporter": "python",
   "pygments_lexer": "ipython3",
   "version": "3.8.5"
  }
 },
 "nbformat": 4,
 "nbformat_minor": 4
}
