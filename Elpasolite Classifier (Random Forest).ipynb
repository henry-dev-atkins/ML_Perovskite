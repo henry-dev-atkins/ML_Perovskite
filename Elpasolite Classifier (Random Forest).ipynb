{
 "cells": [
  {
   "cell_type": "code",
   "execution_count": 1,
   "metadata": {},
   "outputs": [],
   "source": [
    "import numpy as np\n",
    "import pandas as pd\n",
    "\n",
    "from sklearn.model_selection import train_test_split\n",
    "from sklearn.preprocessing import StandardScaler\n",
    "from sklearn.ensemble import RandomForestClassifier\n",
    "from sklearn.metrics import confusion_matrix, accuracy_score"
   ]
  },
  {
   "cell_type": "code",
   "execution_count": 20,
   "metadata": {},
   "outputs": [
    {
     "name": "stdout",
     "output_type": "stream",
     "text": [
      "Index(['A site charge', 'A site mass', 'B1 charge', 'B1 mass', 'B2 charge',\n",
      "       'B2 mass', 'X site charge', 'X site mass', 'Elpasolite?'],\n",
      "      dtype='object')\n"
     ]
    }
   ],
   "source": [
    "raw_data = pd.read_csv(\"data/merged_data_mass.csv\")\n",
    "\n",
    "data = raw_data[['A site charge', 'A site mass', 'B1 charge', 'B1 mass', \n",
    "                 'B2 charge', 'B2 mass','X site charge', 'X site mass', 'Elpasolite?']].copy()\n",
    "B_data = raw_data[['A site charge', 'A site mass', 'B1 charge', 'B1 mass', \n",
    "                 'X site charge', 'X site mass', 'Elpasolite?']].copy()\n",
    "print(data.columns)"
   ]
  },
  {
   "cell_type": "code",
   "execution_count": 21,
   "metadata": {},
   "outputs": [],
   "source": [
    "def random_forest(dataset, test_size, class_estimators, criterion):\n",
    "    X = dataset.iloc[:, :-1].values\n",
    "    y = dataset.iloc[:, -1].values\n",
    "    \n",
    "    X_train, X_test, y_train, y_test = train_test_split(X, y, test_size = test_size, random_state = 0)\n",
    "    \n",
    "    sc = StandardScaler()\n",
    "    X_train, X_test = sc.fit_transform(X_train), sc.transform(X_test)\n",
    "    \n",
    "    \n",
    "    \n",
    "    classify = RandomForestClassifier(n_estimators = class_estimators, criterion = criterion, random_state = 0)\n",
    "    classify.fit(X_train, y_train)\n",
    "    \n",
    "    y_pred = classify.predict(X_test)\n",
    "    \n",
    "    \n",
    "    cm = confusion_matrix(y_test, y_pred)\n",
    "    return(cm, classify.score(X_test, y_pred))\n",
    "    "
   ]
  },
  {
   "cell_type": "code",
   "execution_count": 22,
   "metadata": {},
   "outputs": [
    {
     "name": "stdout",
     "output_type": "stream",
     "text": [
      "(array([[41,  0],\n",
      "       [ 0, 23]], dtype=int64), 1.0)\n",
      "(array([[41,  0],\n",
      "       [ 0, 22]], dtype=int64), 1.0)\n"
     ]
    }
   ],
   "source": [
    "print(random_forest(data, .6495, 10, 'gini'))\n",
    "print(random_forest(data, .6494, 10, 'entropy'))"
   ]
  },
  {
   "cell_type": "code",
   "execution_count": 23,
   "metadata": {},
   "outputs": [
    {
     "name": "stdout",
     "output_type": "stream",
     "text": [
      "(array([[41,  0],\n",
      "       [ 5, 18]], dtype=int64), 1.0)\n",
      "(array([[41,  0],\n",
      "       [ 0, 22]], dtype=int64), 1.0)\n"
     ]
    }
   ],
   "source": [
    "print(random_forest(B_data, .6495, 10, 'gini'))\n",
    "print(random_forest(B_data, .6494, 10, 'entropy'))"
   ]
  },
  {
   "cell_type": "code",
   "execution_count": null,
   "metadata": {},
   "outputs": [],
   "source": []
  }
 ],
 "metadata": {
  "kernelspec": {
   "display_name": "Python 3",
   "language": "python",
   "name": "python3"
  },
  "language_info": {
   "codemirror_mode": {
    "name": "ipython",
    "version": 3
   },
   "file_extension": ".py",
   "mimetype": "text/x-python",
   "name": "python",
   "nbconvert_exporter": "python",
   "pygments_lexer": "ipython3",
   "version": "3.8.5"
  }
 },
 "nbformat": 4,
 "nbformat_minor": 4
}
